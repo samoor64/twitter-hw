{
 "cells": [
  {
   "cell_type": "code",
   "execution_count": 1,
   "metadata": {},
   "outputs": [],
   "source": [
    "%matplotlib inline\n",
    "import numpy as np\n",
    "import pandas as pd\n",
    "import matplotlib.pyplot as plt\n",
    "import json\n",
    "import tweepy\n",
    "import time\n",
    "import seaborn as sns"
   ]
  },
  {
   "cell_type": "code",
   "execution_count": 2,
   "metadata": {},
   "outputs": [],
   "source": [
    "from vaderSentiment.vaderSentiment import SentimentIntensityAnalyzer\n",
    "analyzer = SentimentIntensityAnalyzer()"
   ]
  },
  {
   "cell_type": "code",
   "execution_count": 3,
   "metadata": {},
   "outputs": [],
   "source": [
    "consumer_key = \"2xqB6OIO7SsrXBVzSJQ7S3sOB\"\n",
    "consumer_secret = \"weCvVtReKAN6SyxKB8oGcUWgeFHn7rV6FAnNle12mWASHyzypm\"\n",
    "access_token = \"1023627089117757440-1tl8W5wMbVIt9vqwKp7hfd610aRNJR\"\n",
    "access_token_secret = \"nVQLNLaCbskZhclTM9b3qbFtU3b94gt0ZdPQx5Yf0ZNFE\""
   ]
  },
  {
   "cell_type": "code",
   "execution_count": 5,
   "metadata": {},
   "outputs": [],
   "source": [
    "# API Setup\n",
    "auth_stuff = tweepy.OAuthHandler(consumer_key, consumer_secret)\n",
    "auth_stuff.set_access_token(access_token, access_token_secret)\n",
    "api = tweepy.API(auth_stuff, parser=tweepy.parsers.JSONParser())\n",
    "\n",
    "# Select News Sources (Twitter Accounts)\n",
    "news_source = [\"FoxNews\",\"CNN\",\"BBCWorld\",\"CBSNews\",\"nytimes\"]"
   ]
  },
  {
   "cell_type": "code",
   "execution_count": 6,
   "metadata": {},
   "outputs": [],
   "source": [
    "# Search Profiles\n",
    "profile_stuff = (\"@BBC\",\"@CBSNews\",\"@CNN\",\"@FoxNews\", \"@nytimes\")\n",
    "\n",
    "# min max\n",
    "min_tweets = 5\n",
    "max_tweets = 10000\n",
    "max_followers = 2500\n",
    "max_following = 2500\n",
    "lang = \"en\""
   ]
  },
  {
   "cell_type": "code",
   "execution_count": 8,
   "metadata": {},
   "outputs": [
    {
     "name": "stdout",
     "output_type": "stream",
     "text": [
      "{'User': '@BBC', 'Date': 'Tue Dec 11 01:24:22 +0000 2018', 'Compound': [0.05579166666666667], 'Positive': 0.0255, 'Neutral': 0.007249999999999999, 'Negative': 0.9672499999999999, 'Tweet Count': 120}\n",
      "\n",
      "{'User': '@CBSNews', 'Date': 'Tue Dec 11 01:47:10 +0000 2018', 'Compound': [0.13108809523809525], 'Positive': 0.13854761904761903, 'Neutral': 0.10123809523809525, 'Negative': 0.7602142857142857, 'Tweet Count': 420}\n",
      "\n",
      "{'User': '@CNN', 'Date': 'Tue Dec 11 01:52:55 +0000 2018', 'Compound': [0.020703921568627447], 'Positive': 0.11290196078431372, 'Neutral': 0.08221568627450981, 'Negative': 0.8049215686274511, 'Tweet Count': 510}\n",
      "\n",
      "{'User': '@FoxNews', 'Date': 'Tue Dec 11 01:53:31 +0000 2018', 'Compound': [-0.07575203703703703], 'Positive': 0.07015370370370369, 'Neutral': 0.0974574074074074, 'Negative': 0.8324055555555555, 'Tweet Count': 540}\n",
      "\n",
      "{'User': '@nytimes', 'Date': 'Tue Dec 11 01:51:58 +0000 2018', 'Compound': [-0.0074860724233983215], 'Positive': 0.06155988857938718, 'Neutral': 0.06637883008356546, 'Negative': 0.8720612813370473, 'Tweet Count': 359}\n",
      "\n"
     ]
    }
   ],
   "source": [
    "# sentiment setup\n",
    "sentiment_array = []\n",
    "\n",
    "\n",
    "oldest_tweet = \"\"\n",
    "\n",
    "# loop through profiles\n",
    "for target in profile_stuff:\n",
    "\n",
    "    # Variables for holding sentiments\n",
    "    compound_list = []\n",
    "    positive_list = []\n",
    "    negative_list = []\n",
    "    neutral_list = []\n",
    "\n",
    "    # Loop through 10 times (total of 1000 tweets)\n",
    "    for x in range(10):\n",
    "\n",
    "        # Run search around each tweet\n",
    "        public_tweets = api.search(target, count=100, result_type=\"recent\")\n",
    "\n",
    "        # Loop through all tweets\n",
    "        for tweet in public_tweets[\"statuses\"]:\n",
    "\n",
    "            # Use filters to check if user meets conditions\n",
    "            if (tweet[\"user\"][\"followers_count\"] < max_followers and\n",
    "                tweet[\"user\"][\"statuses_count\"] > min_tweets and\n",
    "                tweet[\"user\"][\"statuses_count\"] < max_tweets and\n",
    "                tweet[\"user\"][\"friends_count\"] < max_following and\n",
    "                    tweet[\"user\"][\"lang\"] == lang):\n",
    "\n",
    "                \n",
    "                compound_stuff = analyzer.polarity_scores(tweet[\"text\"])[\"compound\"]\n",
    "                positive_stuff = analyzer.polarity_scores(tweet[\"text\"])[\"pos\"]\n",
    "                neutral_stuff = analyzer.polarity_scores(tweet[\"text\"])[\"neu\"]\n",
    "                negative_stuff = analyzer.polarity_scores(tweet[\"text\"])[\"neg\"]\n",
    "\n",
    "               \n",
    "                compound_list.append(compound_stuff)\n",
    "                positive_list.append(positive_stuff)\n",
    "                negative_list.append(negative_stuff)\n",
    "                neutral_list.append(neutral_stuff)\n",
    "             \n",
    "    sentiment = {\"User\": target,\n",
    "                 \"Date\": tweet[\"created_at\"],\n",
    "                 \"Compound\": [np.mean(compound_list)],\n",
    "                 \"Positive\": np.mean(positive_list),\n",
    "                 \"Neutral\": np.mean(negative_list),\n",
    "                 \"Negative\": np.mean(neutral_list),\n",
    "                 \"Tweet Count\": len(compound_list)}\n",
    "\n",
    "    \n",
    "    print(sentiment)\n",
    "    print(\"\")"
   ]
  },
  {
   "cell_type": "code",
   "execution_count": 9,
   "metadata": {},
   "outputs": [
    {
     "data": {
      "text/html": [
       "<div>\n",
       "<style scoped>\n",
       "    .dataframe tbody tr th:only-of-type {\n",
       "        vertical-align: middle;\n",
       "    }\n",
       "\n",
       "    .dataframe tbody tr th {\n",
       "        vertical-align: top;\n",
       "    }\n",
       "\n",
       "    .dataframe thead th {\n",
       "        text-align: right;\n",
       "    }\n",
       "</style>\n",
       "<table border=\"1\" class=\"dataframe\">\n",
       "  <thead>\n",
       "    <tr style=\"text-align: right;\">\n",
       "      <th></th>\n",
       "      <th>User</th>\n",
       "      <th>Date</th>\n",
       "      <th>Compound</th>\n",
       "      <th>Positive</th>\n",
       "      <th>Neutral</th>\n",
       "      <th>Negative</th>\n",
       "      <th>Tweet Count</th>\n",
       "    </tr>\n",
       "  </thead>\n",
       "  <tbody>\n",
       "    <tr>\n",
       "      <th>0</th>\n",
       "      <td>@nytimes</td>\n",
       "      <td>Tue Dec 11 01:51:58 +0000 2018</td>\n",
       "      <td>-0.007486</td>\n",
       "      <td>0.06156</td>\n",
       "      <td>0.066379</td>\n",
       "      <td>0.872061</td>\n",
       "      <td>359</td>\n",
       "    </tr>\n",
       "  </tbody>\n",
       "</table>\n",
       "</div>"
      ],
      "text/plain": [
       "       User                            Date  Compound  Positive   Neutral  \\\n",
       "0  @nytimes  Tue Dec 11 01:51:58 +0000 2018 -0.007486   0.06156  0.066379   \n",
       "\n",
       "   Negative  Tweet Count  \n",
       "0  0.872061          359  "
      ]
     },
     "execution_count": 9,
     "metadata": {},
     "output_type": "execute_result"
    }
   ],
   "source": [
    "# Convert sentiment to DataFrame\n",
    "twitter_sentiment = pd.DataFrame.from_dict(sentiment)\n",
    "twitter_sentiment"
   ]
  },
  {
   "cell_type": "code",
   "execution_count": 10,
   "metadata": {},
   "outputs": [],
   "source": [
    "#Export to CSV\n",
    "twitter_sentiment.to_csv(\"twitter_things.csv\", index=False)"
   ]
  },
  {
   "cell_type": "code",
   "execution_count": 12,
   "metadata": {},
   "outputs": [
    {
     "data": {
      "image/png": "[encoded data removed]",
      "text/plain": [
       "<Figure size 432x288 with 1 Axes>"
      ]
     },
     "metadata": {},
     "output_type": "display_data"
    }
   ],
   "source": [
    "# plot\n",
    "plt.plot(np.arange(len(twitter_sentiment[\"Compound\"])),\n",
    "         twitter_sentiment[\"Compound\"], marker=\"o\", linewidth=0.5,\n",
    "         alpha=0.8)\n",
    "\n",
    "# Incorporate the other graph properties\n",
    "plt.title(\"Sentiment Analysis of Tweets (%s) for %s\" % (time.strftime(\"%x\"), profile_stuff))\n",
    "plt.ylabel(\"Tweet Polarity\")\n",
    "plt.xlabel(\"Tweets Ago\")\n",
    "plt.show()"
   ]
  },
  {
   "cell_type": "code",
   "execution_count": 13,
   "metadata": {},
   "outputs": [
    {
     "ename": "NameError",
     "evalue": "name 'tweet_df' is not defined",
     "output_type": "error",
     "traceback": [
      "\u001b[1;31m---------------------------------------------------------------------------\u001b[0m",
      "\u001b[1;31mNameError\u001b[0m                                 Traceback (most recent call last)",
      "\u001b[1;32m<ipython-input-13-8ef712d3b947>\u001b[0m in \u001b[0;36m<module>\u001b[1;34m()\u001b[0m\n\u001b[0;32m      1\u001b[0m \u001b[1;31m#Average all polarities by news source\u001b[0m\u001b[1;33m\u001b[0m\u001b[1;33m\u001b[0m\u001b[0m\n\u001b[1;32m----> 2\u001b[1;33m \u001b[0mtweet_df_polarity\u001b[0m \u001b[1;33m=\u001b[0m \u001b[0mtweet_df\u001b[0m\u001b[1;33m.\u001b[0m\u001b[0mgroupby\u001b[0m\u001b[1;33m(\u001b[0m\u001b[1;33m[\u001b[0m\u001b[1;34m\"tweet_source\"\u001b[0m\u001b[1;33m]\u001b[0m\u001b[1;33m)\u001b[0m\u001b[1;33m.\u001b[0m\u001b[0mmean\u001b[0m\u001b[1;33m(\u001b[0m\u001b[1;33m)\u001b[0m\u001b[1;33m[\u001b[0m\u001b[1;34m\"tweet_vader_score\"\u001b[0m\u001b[1;33m]\u001b[0m\u001b[1;33m\u001b[0m\u001b[0m\n\u001b[0m\u001b[0;32m      3\u001b[0m \u001b[1;33m\u001b[0m\u001b[0m\n\u001b[0;32m      4\u001b[0m \u001b[1;31m#View the polarities\u001b[0m\u001b[1;33m\u001b[0m\u001b[1;33m\u001b[0m\u001b[0m\n\u001b[0;32m      5\u001b[0m \u001b[0mpd\u001b[0m\u001b[1;33m.\u001b[0m\u001b[0mDataFrame\u001b[0m\u001b[1;33m(\u001b[0m\u001b[0mtweet_df_polarity\u001b[0m\u001b[1;33m)\u001b[0m\u001b[1;33m\u001b[0m\u001b[0m\n",
      "\u001b[1;31mNameError\u001b[0m: name 'tweet_df' is not defined"
     ]
    }
   ],
   "source": [
    "#Group By \n",
    "tweet_polarity = tweet_df.groupby([\"tweet_source\"]).mean()[\"tweet_vader_score\"]\n",
    "\n",
    "#View the polarities\n",
    "pd.DataFrame(tweet_polarity)"
   ]
  },
  {
   "cell_type": "code",
   "execution_count": null,
   "metadata": {},
   "outputs": [],
   "source": [
    "\n",
    "# Store all polarities in a tuple \n",
    "tweets_polarity = (tweet_df_polarity[\"BBC News (World)\"],\n",
    "                       tweet_df_polarity[\"CBS News\"],\n",
    "                       tweet_df_polarity[\"CNN\"],\n",
    "                       tweet_df_polarity[\"Fox News\"],\n",
    "                       tweet_df_polarity[\"The New York Times\"])\n",
    "\n",
    "# Generate bars for each news source\n",
    "fig, ax = plt.subplots()\n",
    "ind = np.arange(len(tweets_polarity))\n",
    "width = 1\n",
    "rect1 = ax.bar(ind[0], tweets_polarity[0], width, color=\"orange\")\n",
    "rect2 = ax.bar(ind[1], tweets_polarity[1], width, color=\"red\")\n",
    "rect3 = ax.bar(ind[2], tweets_polarity[2], width, color=\"purple\")\n",
    "rect4 = ax.bar(ind[3], tweets_polarity[3], width, color=\"pink\")\n",
    "rect5 = ax.bar(ind[4], tweets_polarity[4], width, color=\"yellow\")\n",
    "\n",
    "# Generate labels for each news source\n",
    "def autolabelpos(rects):\n",
    "   # attach some text labels\n",
    "   for rect in rects:\n",
    "       height = rect.get_height()\n",
    "       ax.text(rect.get_x() + rect.get_width()/2., 1*height, '+%.2f' % float(height)),ha='center', va='bottom'\n",
    "def autolabelneg(rects):\n",
    "    attach some text labels\n",
    "   for rect in rects:\n",
    "       height = rect.get_height()\n",
    "       ax.text(rect.get_x() + rect.get_width()/2., -1*height-0.015,\n",
    "               '-%.2f' % float(height),\n",
    "               ha='center', va='bottom')"
   ]
  },
  {
   "cell_type": "code",
   "execution_count": null,
   "metadata": {},
   "outputs": [],
   "source": []
  }
 ],
 "metadata": {
  "kernelspec": {
   "display_name": "Python [conda env:Anaconda3]",
   "language": "python",
   "name": "conda-env-Anaconda3-py"
  },
  "language_info": {
   "codemirror_mode": {
    "name": "ipython",
    "version": 3
   },
   "file_extension": ".py",
   "mimetype": "text/x-python",
   "name": "python",
   "nbconvert_exporter": "python",
   "pygments_lexer": "ipython3",
   "version": "3.6.5"
  }
 },
 "nbformat": 4,
 "nbformat_minor": 2
}
